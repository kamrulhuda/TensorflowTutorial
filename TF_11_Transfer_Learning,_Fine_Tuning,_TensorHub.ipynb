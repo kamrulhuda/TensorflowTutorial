{
  "nbformat": 4,
  "nbformat_minor": 0,
  "metadata": {
    "colab": {
      "name": "TF_11: Transfer Learning, Fine Tuning, TensorHub.ipynb",
      "provenance": [],
      "collapsed_sections": [],
      "machine_shape": "hm",
      "authorship_tag": "ABX9TyMhmJmVa1tnyuGCm0fRD9XU",
      "include_colab_link": true
    },
    "kernelspec": {
      "name": "python3",
      "display_name": "Python 3"
    },
    "language_info": {
      "name": "python"
    },
    "accelerator": "GPU"
  },
  "cells": [
    {
      "cell_type": "markdown",
      "metadata": {
        "id": "view-in-github",
        "colab_type": "text"
      },
      "source": [
        "<a href=\"https://colab.research.google.com/github/kamrulhuda/TensorflowTutorial/blob/main/TF_11_Transfer_Learning%2C_Fine_Tuning%2C_TensorHub.ipynb\" target=\"_parent\"><img src=\"https://colab.research.google.com/assets/colab-badge.svg\" alt=\"Open In Colab\"/></a>"
      ]
    },
    {
      "cell_type": "markdown",
      "metadata": {
        "id": "XDHwCjtwA-z2"
      },
      "source": [
        "#1.How to save and load model weights\n",
        "#2. Save and load the entire model (Serializing model)(Saved as datatructure, that means it can be loaded for different tensorflow framework: tf javascript, tf lite\n",
        "    -  Save weights\n",
        "    -  Save Model Architecture\n",
        "    -  Trainig Configuration (model.compile())\n",
        "    -  Optimizer and States (ex: Adam)"
      ]
    },
    {
      "cell_type": "markdown",
      "metadata": {
        "id": "p5fCuI5TdC9Y"
      },
      "source": [
        "https://www.youtube.com/watch?v=HPjBY1H-U4U&list=PLhhyoLH6IjfxVOdVC1P1L5z5azs0XjMsb&index=2"
      ]
    },
    {
      "cell_type": "code",
      "metadata": {
        "id": "4ML3fkISdCaZ"
      },
      "source": [
        "import os\n",
        "os.environ ['TF_CPP_MIN_LOG_LEVEL']= '2'"
      ],
      "execution_count": 2,
      "outputs": []
    },
    {
      "cell_type": "code",
      "metadata": {
        "id": "BKcAI8hU9-UI"
      },
      "source": [
        "import tensorflow as tf #fundamental building blocks of deep learing \n",
        "from tensorflow import keras\n",
        "from tensorflow.keras import layers\n",
        "from tensorflow.keras.datasets import mnist\n",
        "import tensorflow_hub as hub"
      ],
      "execution_count": 3,
      "outputs": []
    },
    {
      "cell_type": "markdown",
      "metadata": {
        "id": "9a4itkiCz1ZP"
      },
      "source": [
        "#1. Pretrained Model (Loading from Saved Model)"
      ]
    },
    {
      "cell_type": "code",
      "metadata": {
        "colab": {
          "base_uri": "https://localhost:8080/"
        },
        "id": "BOhI4XuLmKuQ",
        "outputId": "4cef8817-7782-47cc-d56d-551396d01603"
      },
      "source": [
        "#Loading the Data\n",
        "(x_train, y_train), (x_test, y_test)= mnist.load_data()\n",
        "print(x_train.shape)\n",
        "print(y_train.shape)\n",
        "x_train= x_train.reshape(-1,28*28).astype('float32')/255.0\n",
        "x_test= x_test.reshape(-1,28*28).astype('float32')/255.0\n",
        "#Loading the trained model\n",
        "model = keras.models.load_model('pretrained/')\n",
        "#Freezing the model\n",
        "model.trainable= False\n",
        "\n",
        "print(model.summary())\n",
        "base_inputs= model.layers[0].input\n",
        "base_outputs= model.layers[-2].output #If you want to skip the last layer then just write -2\n",
        "final_outputs= layers.Dense(15)(base_outputs)\n",
        "\n",
        "new_model= keras.Model(inputs= base_inputs, outputs= final_outputs)\n",
        "print(new_model.summary())\n",
        "\n",
        "#Network Confiuration\n",
        "new_model.compile(\n",
        "    loss= keras.losses.SparseCategoricalCrossentropy(from_logits= 'True'),\n",
        "    optimizer= keras.optimizers.Adam(lr=0.001),\n",
        "    metrics= ['accuracy'] #Running accuracy of the training model\n",
        ")\n",
        "#Specify of concrete method for training the model\n",
        "new_model.fit(x_train, y_train, batch_size=64, epochs=1, verbose=2) #verbose=2 will print the results after every epoch\n",
        "#Evaluating on Test Set\n",
        "new_model.evaluate(x_test,y_test,batch_size=64, verbose=2)"
      ],
      "execution_count": 9,
      "outputs": [
        {
          "output_type": "stream",
          "text": [
            "(60000, 28, 28)\n",
            "(60000,)\n",
            "Model: \"sequential_11\"\n",
            "_________________________________________________________________\n",
            "Layer (type)                 Output Shape              Param #   \n",
            "=================================================================\n",
            "dense_22 (Dense)             (None, 64)                50240     \n",
            "_________________________________________________________________\n",
            "dense_23 (Dense)             (None, 10)                650       \n",
            "=================================================================\n",
            "Total params: 50,890\n",
            "Trainable params: 0\n",
            "Non-trainable params: 50,890\n",
            "_________________________________________________________________\n",
            "None\n",
            "Model: \"model_5\"\n",
            "_________________________________________________________________\n",
            "Layer (type)                 Output Shape              Param #   \n",
            "=================================================================\n",
            "dense_22_input (InputLayer)  [(None, 784)]             0         \n",
            "_________________________________________________________________\n",
            "dense_22 (Dense)             (None, 64)                50240     \n",
            "_________________________________________________________________\n",
            "dense_5 (Dense)              (None, 15)                975       \n",
            "=================================================================\n",
            "Total params: 51,215\n",
            "Trainable params: 975\n",
            "Non-trainable params: 50,240\n",
            "_________________________________________________________________\n",
            "None\n"
          ],
          "name": "stdout"
        },
        {
          "output_type": "stream",
          "text": [
            "/usr/local/lib/python3.7/dist-packages/tensorflow/python/keras/optimizer_v2/optimizer_v2.py:375: UserWarning: The `lr` argument is deprecated, use `learning_rate` instead.\n",
            "  \"The `lr` argument is deprecated, use `learning_rate` instead.\")\n"
          ],
          "name": "stderr"
        },
        {
          "output_type": "stream",
          "text": [
            "938/938 - 1s - loss: 0.7676 - accuracy: 0.8061\n",
            "157/157 - 0s - loss: 0.1778 - accuracy: 0.9567\n"
          ],
          "name": "stdout"
        },
        {
          "output_type": "execute_result",
          "data": {
            "text/plain": [
              "[0.17777687311172485, 0.9567000269889832]"
            ]
          },
          "metadata": {
            "tags": []
          },
          "execution_count": 9
        }
      ]
    },
    {
      "cell_type": "markdown",
      "metadata": {
        "id": "PLy8H4r_2ExK"
      },
      "source": [
        "#2. Pretrained Keras Model"
      ]
    },
    {
      "cell_type": "code",
      "metadata": {
        "id": "2ISjolNPwk3u"
      },
      "source": [
        ""
      ],
      "execution_count": null,
      "outputs": []
    },
    {
      "cell_type": "code",
      "metadata": {
        "id": "0nndlCjZwk6x"
      },
      "source": [
        ""
      ],
      "execution_count": null,
      "outputs": []
    },
    {
      "cell_type": "markdown",
      "metadata": {
        "id": "kU3Ey1vi4Lfv"
      },
      "source": [
        "#3. Pretrained Tensroflow Hub model"
      ]
    },
    {
      "cell_type": "code",
      "metadata": {
        "id": "KvMedb7Kwk9v"
      },
      "source": [
        ""
      ],
      "execution_count": null,
      "outputs": []
    },
    {
      "cell_type": "code",
      "metadata": {
        "id": "npMpOOSewlAq"
      },
      "source": [
        ""
      ],
      "execution_count": null,
      "outputs": []
    },
    {
      "cell_type": "code",
      "metadata": {
        "id": "tEPyx3A9wlD5"
      },
      "source": [
        ""
      ],
      "execution_count": null,
      "outputs": []
    }
  ]
}