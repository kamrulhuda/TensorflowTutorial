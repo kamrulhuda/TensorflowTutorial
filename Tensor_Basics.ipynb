{
  "nbformat": 4,
  "nbformat_minor": 0,
  "metadata": {
    "colab": {
      "name": "Tensor_Basics.ipynb",
      "provenance": [],
      "collapsed_sections": [],
      "machine_shape": "hm",
      "authorship_tag": "ABX9TyPupL9lkF4m/e2vxTSZNSIg",
      "include_colab_link": true
    },
    "kernelspec": {
      "name": "python3",
      "display_name": "Python 3"
    },
    "language_info": {
      "name": "python"
    },
    "accelerator": "GPU"
  },
  "cells": [
    {
      "cell_type": "markdown",
      "metadata": {
        "id": "view-in-github",
        "colab_type": "text"
      },
      "source": [
        "<a href=\"https://colab.research.google.com/github/kamrulhuda/TensorflowTutorial/blob/main/Tensor_Basics.ipynb\" target=\"_parent\"><img src=\"https://colab.research.google.com/assets/colab-badge.svg\" alt=\"Open In Colab\"/></a>"
      ]
    },
    {
      "cell_type": "markdown",
      "metadata": {
        "id": "p5fCuI5TdC9Y"
      },
      "source": [
        "https://www.youtube.com/watch?v=HPjBY1H-U4U&list=PLhhyoLH6IjfxVOdVC1P1L5z5azs0XjMsb&index=2"
      ]
    },
    {
      "cell_type": "code",
      "metadata": {
        "id": "4ML3fkISdCaZ"
      },
      "source": [
        "import os\n",
        "os.environ ['TF_CPP_MIN_LOG_LEVEL']= '2'"
      ],
      "execution_count": 2,
      "outputs": []
    },
    {
      "cell_type": "code",
      "metadata": {
        "id": "BKcAI8hU9-UI"
      },
      "source": [
        "import tensorflow as tf #fundamental building blocks of deep learing    "
      ],
      "execution_count": 3,
      "outputs": []
    },
    {
      "cell_type": "code",
      "metadata": {
        "colab": {
          "base_uri": "https://localhost:8080/"
        },
        "id": "HJ3Rcbl-d4gg",
        "outputId": "1204ca2e-d6ab-4997-cae4-bac22692b375"
      },
      "source": [
        "#Initializing of tensors\n",
        "x= tf.constant(4.0, shape=(1,1), dtype=tf.float32)\n",
        "print(x)\n",
        "x= tf.constant([[1,2,3],[4,5,6]])\n",
        "print(x)\n",
        "x= tf.ones((3,3))\n",
        "print(x)\n",
        "x= tf.zeros((2,3))\n",
        "print(x)\n",
        "x= tf.eye(3)\n",
        "print(x)\n",
        "x= tf.random.normal((3,3), mean=0,stddev=1)\n",
        "print(x)\n",
        "x= tf.random.uniform((1,3), minval=0, maxval=1)\n",
        "print(x)\n",
        "x= tf.range(9)\n",
        "print(x)\n",
        "x= tf.range(start=1, limit=19, delta=2)\n",
        "print(x)"
      ],
      "execution_count": 4,
      "outputs": [
        {
          "output_type": "stream",
          "text": [
            "tf.Tensor([[4.]], shape=(1, 1), dtype=float32)\n",
            "tf.Tensor(\n",
            "[[1 2 3]\n",
            " [4 5 6]], shape=(2, 3), dtype=int32)\n",
            "tf.Tensor(\n",
            "[[1. 1. 1.]\n",
            " [1. 1. 1.]\n",
            " [1. 1. 1.]], shape=(3, 3), dtype=float32)\n",
            "tf.Tensor(\n",
            "[[0. 0. 0.]\n",
            " [0. 0. 0.]], shape=(2, 3), dtype=float32)\n",
            "tf.Tensor(\n",
            "[[1. 0. 0.]\n",
            " [0. 1. 0.]\n",
            " [0. 0. 1.]], shape=(3, 3), dtype=float32)\n",
            "tf.Tensor(\n",
            "[[-0.01666949  0.3457884  -0.2081575 ]\n",
            " [ 0.5932417   1.3666451  -0.31936002]\n",
            " [ 1.3844962   0.2871396   2.112932  ]], shape=(3, 3), dtype=float32)\n",
            "tf.Tensor([[0.87738323 0.5199487  0.9320886 ]], shape=(1, 3), dtype=float32)\n",
            "tf.Tensor([0 1 2 3 4 5 6 7 8], shape=(9,), dtype=int32)\n",
            "tf.Tensor([ 1  3  5  7  9 11 13 15 17], shape=(9,), dtype=int32)\n"
          ],
          "name": "stdout"
        }
      ]
    },
    {
      "cell_type": "code",
      "metadata": {
        "colab": {
          "base_uri": "https://localhost:8080/"
        },
        "id": "K8O8Rynad_8Y",
        "outputId": "31311c9a-2efd-4dc1-b9f7-759c163e0361"
      },
      "source": [
        "#Converting the data type\n",
        "x= tf.cast(x, dtype=tf.float64)\n",
        "print(x)"
      ],
      "execution_count": 5,
      "outputs": [
        {
          "output_type": "stream",
          "text": [
            "tf.Tensor([ 1.  3.  5.  7.  9. 11. 13. 15. 17.], shape=(9,), dtype=float64)\n"
          ],
          "name": "stdout"
        }
      ]
    },
    {
      "cell_type": "code",
      "metadata": {
        "colab": {
          "base_uri": "https://localhost:8080/"
        },
        "id": "W-Of9U5RfwSw",
        "outputId": "a8301515-a321-42ba-e64d-580bc4263c75"
      },
      "source": [
        "#mathematical Operations of Tensors\n",
        "x= tf.constant([12,2,2])\n",
        "y= tf.constant([2,3,4])\n",
        "z=tf.add(x,y)\n",
        "z1= tf.subtract(x,y)\n",
        "z2=tf.divide(x,y)\n",
        "z3= tf.multiply(x,y)\n",
        "z4= tf.tensordot(x,y, axes=1) # Element wise multiplication and then subtraction\n",
        "print(z4)\n",
        "z5= x**5\n",
        "print(z5)\n",
        " #Matris Multiplication\n",
        "x= tf.random.normal((2,3))\n",
        "y= tf.random.normal((3,4))\n",
        "z6= tf.matmul(x,y)\n",
        "print(z6)"
      ],
      "execution_count": 6,
      "outputs": [
        {
          "output_type": "stream",
          "text": [
            "tf.Tensor(38, shape=(), dtype=int32)\n",
            "tf.Tensor([248832     32     32], shape=(3,), dtype=int32)\n",
            "tf.Tensor(\n",
            "[[-2.7157617  -1.0510737   0.60156274  2.8560214 ]\n",
            " [ 0.63561857  1.2472357  -3.5182457  -3.0133095 ]], shape=(2, 4), dtype=float32)\n"
          ],
          "name": "stdout"
        }
      ]
    },
    {
      "cell_type": "code",
      "metadata": {
        "colab": {
          "base_uri": "https://localhost:8080/"
        },
        "id": "9N13Xuq6hJ-y",
        "outputId": "ea9a8075-c8cf-4a1e-fe2c-00fb9328945f"
      },
      "source": [
        "#Indexing\n",
        "x= tf.constant([0,1,1,12,3,4,2])\n",
        "print(x[:])\n",
        "print(x[1:])\n",
        "print(x[1:3])\n",
        "print(x[::2])\n",
        "print(x[::-1])\n"
      ],
      "execution_count": 8,
      "outputs": [
        {
          "output_type": "stream",
          "text": [
            "tf.Tensor([ 0  1  1 12  3  4  2], shape=(7,), dtype=int32)\n",
            "tf.Tensor([ 1  1 12  3  4  2], shape=(6,), dtype=int32)\n",
            "tf.Tensor([1 1], shape=(2,), dtype=int32)\n",
            "tf.Tensor([0 1 3 2], shape=(4,), dtype=int32)\n",
            "tf.Tensor([ 2  4  3 12  1  1  0], shape=(7,), dtype=int32)\n"
          ],
          "name": "stdout"
        }
      ]
    },
    {
      "cell_type": "code",
      "metadata": {
        "colab": {
          "base_uri": "https://localhost:8080/"
        },
        "id": "x-5OAaJ_jMQc",
        "outputId": "2d2a1f21-e035-452f-cda1-bf58e7b445d8"
      },
      "source": [
        "#Reshaping\n",
        "x=tf.range(9)\n",
        "print(x)\n",
        "x= tf.reshape(x, (3,3))\n",
        "print(x)\n",
        "x= tf.transpose(x, perm=[1,0])\n",
        "print(x)"
      ],
      "execution_count": 13,
      "outputs": [
        {
          "output_type": "stream",
          "text": [
            "tf.Tensor([0 1 2 3 4 5 6 7 8], shape=(9,), dtype=int32)\n",
            "tf.Tensor(\n",
            "[[0 1 2]\n",
            " [3 4 5]\n",
            " [6 7 8]], shape=(3, 3), dtype=int32)\n",
            "tf.Tensor(\n",
            "[[0 3 6]\n",
            " [1 4 7]\n",
            " [2 5 8]], shape=(3, 3), dtype=int32)\n"
          ],
          "name": "stdout"
        }
      ]
    },
    {
      "cell_type": "code",
      "metadata": {
        "id": "opOtlxzVlXvl"
      },
      "source": [
        "e"
      ],
      "execution_count": null,
      "outputs": []
    }
  ]
}