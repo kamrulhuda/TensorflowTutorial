{
  "nbformat": 4,
  "nbformat_minor": 0,
  "metadata": {
    "colab": {
      "name": "TF_10: Saving Loading Models.ipynb",
      "provenance": [],
      "collapsed_sections": [],
      "machine_shape": "hm",
      "authorship_tag": "ABX9TyOul41t7N1DhcYzVq2gtpAG",
      "include_colab_link": true
    },
    "kernelspec": {
      "name": "python3",
      "display_name": "Python 3"
    },
    "language_info": {
      "name": "python"
    },
    "accelerator": "GPU"
  },
  "cells": [
    {
      "cell_type": "markdown",
      "metadata": {
        "id": "view-in-github",
        "colab_type": "text"
      },
      "source": [
        "<a href=\"https://colab.research.google.com/github/kamrulhuda/TensorflowTutorial/blob/main/TF_10_Saving_Loading_Models.ipynb\" target=\"_parent\"><img src=\"https://colab.research.google.com/assets/colab-badge.svg\" alt=\"Open In Colab\"/></a>"
      ]
    },
    {
      "cell_type": "markdown",
      "metadata": {
        "id": "XDHwCjtwA-z2"
      },
      "source": [
        "#1.How to save and load model weights\n",
        "#2. Save and load the entire model (Serializing model)(Saved as datatructure, that means it can be loaded for different tensorflow framework: tf javascript, tf lite\n",
        "    -  Save weights\n",
        "    -  Save Model Architecture\n",
        "    -  Trainig Configuration (model.compile())\n",
        "    -  Optimizer and States (ex: Adam)"
      ]
    },
    {
      "cell_type": "markdown",
      "metadata": {
        "id": "p5fCuI5TdC9Y"
      },
      "source": [
        "https://www.youtube.com/watch?v=HPjBY1H-U4U&list=PLhhyoLH6IjfxVOdVC1P1L5z5azs0XjMsb&index=2"
      ]
    },
    {
      "cell_type": "code",
      "metadata": {
        "id": "4ML3fkISdCaZ"
      },
      "source": [
        "import os\n",
        "os.environ ['TF_CPP_MIN_LOG_LEVEL']= '2'"
      ],
      "execution_count": 56,
      "outputs": []
    },
    {
      "cell_type": "code",
      "metadata": {
        "id": "BKcAI8hU9-UI"
      },
      "source": [
        "import tensorflow as tf #fundamental building blocks of deep learing \n",
        "from tensorflow import keras\n",
        "from tensorflow.keras import layers\n",
        "from tensorflow.keras.datasets import mnist"
      ],
      "execution_count": 57,
      "outputs": []
    },
    {
      "cell_type": "code",
      "metadata": {
        "colab": {
          "base_uri": "https://localhost:8080/"
        },
        "id": "BOhI4XuLmKuQ",
        "outputId": "bfc3cd41-56d3-415e-d4f2-54ae3892ea5a"
      },
      "source": [
        "#Loading the Data\n",
        "(x_train, y_train), (x_test, y_test)= mnist.load_data()\n",
        "print(x_train.shape)\n",
        "print(y_train.shape)\n",
        "x_train= x_train.reshape(-1,28*28).astype('float32')/255.0\n",
        "x_test= x_test.reshape(-1,28*28).astype('float32')/255.0"
      ],
      "execution_count": 58,
      "outputs": [
        {
          "output_type": "stream",
          "text": [
            "(60000, 28, 28)\n",
            "(60000,)\n"
          ],
          "name": "stdout"
        }
      ]
    },
    {
      "cell_type": "code",
      "metadata": {
        "id": "eGL_pswfotV7"
      },
      "source": [
        "#Sequntial API\n",
        "model1= keras.Sequential(\n",
        "    [\n",
        "     layers.Dense(64, activation= 'relu'),\n",
        "     layers.Dense(10)\n",
        "    ]\n",
        ")"
      ],
      "execution_count": 79,
      "outputs": []
    },
    {
      "cell_type": "code",
      "metadata": {
        "id": "6A2DjhCHotZt"
      },
      "source": [
        "#Functional API (Here Multi Outputs are possible)\n",
        "inputs= keras.Input(28*28)\n",
        "x= layers.Dense(64, activation='relu')(inputs)\n",
        "outputs= layers.Dense(10)(x)\n",
        "\n",
        "model2= keras.Model(inputs= inputs, outputs= outputs)"
      ],
      "execution_count": 62,
      "outputs": []
    },
    {
      "cell_type": "code",
      "metadata": {
        "id": "iU6b1FKDotch"
      },
      "source": [
        "#Subclassing NN model\n",
        "\n",
        "class MyModel (keras.Model):\n",
        "  def __init__(self):\n",
        "    super(MyModel, self).__init__()\n",
        "    self.dense1= layers.Dense(64, activation= 'relu')\n",
        "    self.dense2= layers.Dense(10)\n",
        "\n",
        "  def call(self, input_tensor):\n",
        "    x= tf.nn.relu(self.dense1(input_tensor))\n",
        "    return self.dense2(x)\n",
        "\n",
        "\n",
        "model3= MyModel()\n"
      ],
      "execution_count": 65,
      "outputs": []
    },
    {
      "cell_type": "code",
      "metadata": {
        "id": "KLfWYKF4uc_t"
      },
      "source": [
        "model= model1"
      ],
      "execution_count": 80,
      "outputs": []
    },
    {
      "cell_type": "code",
      "metadata": {
        "colab": {
          "base_uri": "https://localhost:8080/"
        },
        "id": "exxdgJuwotfL",
        "outputId": "a967ffd6-fddb-492c-81f9-df15d289fa46"
      },
      "source": [
        "#Network Confiuration\n",
        "model.compile(\n",
        "    loss= keras.losses.SparseCategoricalCrossentropy(from_logits= 'True'),\n",
        "    optimizer= keras.optimizers.Adam(lr=0.001),\n",
        "    metrics= ['accuracy'] #Running accuracy of the training model\n",
        ")\n",
        "#Specify of concrete method for training the model\n",
        "model.fit(x_train, y_train, batch_size=64, epochs=10, verbose=2) #verbose=2 will print the results after every epoch\n",
        "#Evaluating on Test Set\n",
        "model.evaluate(x_test,y_test,batch_size=64, verbose=2)"
      ],
      "execution_count": 81,
      "outputs": [
        {
          "output_type": "stream",
          "text": [
            "/usr/local/lib/python3.7/dist-packages/tensorflow/python/keras/optimizer_v2/optimizer_v2.py:375: UserWarning: The `lr` argument is deprecated, use `learning_rate` instead.\n",
            "  \"The `lr` argument is deprecated, use `learning_rate` instead.\")\n"
          ],
          "name": "stderr"
        },
        {
          "output_type": "stream",
          "text": [
            "Epoch 1/10\n",
            "938/938 - 2s - loss: 0.3421 - accuracy: 0.9041\n",
            "Epoch 2/10\n",
            "938/938 - 1s - loss: 0.1704 - accuracy: 0.9515\n",
            "Epoch 3/10\n",
            "938/938 - 1s - loss: 0.1304 - accuracy: 0.9616\n",
            "Epoch 4/10\n",
            "938/938 - 1s - loss: 0.1045 - accuracy: 0.9689\n",
            "Epoch 5/10\n",
            "938/938 - 1s - loss: 0.0868 - accuracy: 0.9747\n",
            "Epoch 6/10\n",
            "938/938 - 1s - loss: 0.0737 - accuracy: 0.9783\n",
            "Epoch 7/10\n",
            "938/938 - 1s - loss: 0.0639 - accuracy: 0.9804\n",
            "Epoch 8/10\n",
            "938/938 - 1s - loss: 0.0546 - accuracy: 0.9833\n",
            "Epoch 9/10\n",
            "938/938 - 1s - loss: 0.0481 - accuracy: 0.9855\n",
            "Epoch 10/10\n",
            "938/938 - 1s - loss: 0.0431 - accuracy: 0.9875\n",
            "157/157 - 0s - loss: 0.0914 - accuracy: 0.9738\n"
          ],
          "name": "stdout"
        },
        {
          "output_type": "execute_result",
          "data": {
            "text/plain": [
              "[0.09140446037054062, 0.973800003528595]"
            ]
          },
          "metadata": {
            "tags": []
          },
          "execution_count": 81
        }
      ]
    },
    {
      "cell_type": "code",
      "metadata": {
        "id": "0EypWlwxotiB"
      },
      "source": [
        "model.save_weights('saved_model/')"
      ],
      "execution_count": 82,
      "outputs": []
    },
    {
      "cell_type": "code",
      "metadata": {
        "colab": {
          "base_uri": "https://localhost:8080/"
        },
        "id": "DMglCWXAte25",
        "outputId": "fa7d7b7d-5f5b-4bea-81a2-874089e42b91"
      },
      "source": [
        "model.load_weights('saved_model/')"
      ],
      "execution_count": 83,
      "outputs": [
        {
          "output_type": "execute_result",
          "data": {
            "text/plain": [
              "<tensorflow.python.training.tracking.util.CheckpointLoadStatus at 0x7f08f9f809d0>"
            ]
          },
          "metadata": {
            "tags": []
          },
          "execution_count": 83
        }
      ]
    },
    {
      "cell_type": "code",
      "metadata": {
        "colab": {
          "base_uri": "https://localhost:8080/"
        },
        "id": "b7glydPlte6c",
        "outputId": "daa71228-47ed-4c19-8c35-0ed99a14a772"
      },
      "source": [
        "#Network Confiuration\n",
        "model.compile(\n",
        "    loss= keras.losses.SparseCategoricalCrossentropy(from_logits= 'True'),\n",
        "    optimizer= keras.optimizers.Adam(lr=0.001),\n",
        "    metrics= ['accuracy'] #Running accuracy of the training model\n",
        ")\n",
        "#Specify of concrete method for training the model\n",
        "model.fit(x_train, y_train, batch_size=64, epochs=10, verbose=2) #verbose=2 will print the results after every epoch\n",
        "#Evaluating on Test Set\n",
        "model.evaluate(x_test,y_test,batch_size=64, verbose=2)"
      ],
      "execution_count": 73,
      "outputs": [
        {
          "output_type": "stream",
          "text": [
            "/usr/local/lib/python3.7/dist-packages/tensorflow/python/keras/optimizer_v2/optimizer_v2.py:375: UserWarning: The `lr` argument is deprecated, use `learning_rate` instead.\n",
            "  \"The `lr` argument is deprecated, use `learning_rate` instead.\")\n"
          ],
          "name": "stderr"
        },
        {
          "output_type": "stream",
          "text": [
            "Epoch 1/10\n",
            "938/938 - 2s - loss: 0.0413 - accuracy: 0.9879\n",
            "Epoch 2/10\n",
            "938/938 - 1s - loss: 0.0364 - accuracy: 0.9894\n",
            "Epoch 3/10\n",
            "938/938 - 1s - loss: 0.0324 - accuracy: 0.9907\n",
            "Epoch 4/10\n",
            "938/938 - 1s - loss: 0.0295 - accuracy: 0.9913\n",
            "Epoch 5/10\n",
            "938/938 - 1s - loss: 0.0252 - accuracy: 0.9929\n",
            "Epoch 6/10\n",
            "938/938 - 1s - loss: 0.0229 - accuracy: 0.9936\n",
            "Epoch 7/10\n",
            "938/938 - 1s - loss: 0.0208 - accuracy: 0.9941\n",
            "Epoch 8/10\n",
            "938/938 - 1s - loss: 0.0186 - accuracy: 0.9949\n",
            "Epoch 9/10\n",
            "938/938 - 1s - loss: 0.0167 - accuracy: 0.9952\n",
            "Epoch 10/10\n",
            "938/938 - 1s - loss: 0.0149 - accuracy: 0.9963\n",
            "157/157 - 0s - loss: 0.1168 - accuracy: 0.9720\n"
          ],
          "name": "stdout"
        },
        {
          "output_type": "execute_result",
          "data": {
            "text/plain": [
              "[0.11678604781627655, 0.972000002861023]"
            ]
          },
          "metadata": {
            "tags": []
          },
          "execution_count": 73
        }
      ]
    },
    {
      "cell_type": "code",
      "metadata": {
        "colab": {
          "base_uri": "https://localhost:8080/"
        },
        "id": "8bjyaUmDte9c",
        "outputId": "88a99fea-e751-4f2e-8e8b-68363cab842f"
      },
      "source": [
        "model.save('complete_saved_model/')"
      ],
      "execution_count": 84,
      "outputs": [
        {
          "output_type": "stream",
          "text": [
            "INFO:tensorflow:Assets written to: complete_saved_model/assets\n"
          ],
          "name": "stdout"
        }
      ]
    },
    {
      "cell_type": "code",
      "metadata": {
        "id": "gCkgLL_XtfAJ"
      },
      "source": [
        "model = keras.models.load_model('complete_saved_model/')"
      ],
      "execution_count": 85,
      "outputs": []
    }
  ]
}