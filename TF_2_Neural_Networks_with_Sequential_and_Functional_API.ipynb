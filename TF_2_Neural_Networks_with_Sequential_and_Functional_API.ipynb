{
  "nbformat": 4,
  "nbformat_minor": 0,
  "metadata": {
    "colab": {
      "name": "TF_2: Neural Networks with Sequential and Functional API.ipynb",
      "provenance": [],
      "collapsed_sections": [],
      "machine_shape": "hm",
      "authorship_tag": "ABX9TyPObYnHDK5gcFdpQ6xNjUez",
      "include_colab_link": true
    },
    "kernelspec": {
      "name": "python3",
      "display_name": "Python 3"
    },
    "language_info": {
      "name": "python"
    },
    "accelerator": "GPU"
  },
  "cells": [
    {
      "cell_type": "markdown",
      "metadata": {
        "id": "view-in-github",
        "colab_type": "text"
      },
      "source": [
        "<a href=\"https://colab.research.google.com/github/kamrulhuda/TensorflowTutorial/blob/main/TF_2_Neural_Networks_with_Sequential_and_Functional_API.ipynb\" target=\"_parent\"><img src=\"https://colab.research.google.com/assets/colab-badge.svg\" alt=\"Open In Colab\"/></a>"
      ]
    },
    {
      "cell_type": "markdown",
      "metadata": {
        "id": "p5fCuI5TdC9Y"
      },
      "source": [
        "https://www.youtube.com/watch?v=HPjBY1H-U4U&list=PLhhyoLH6IjfxVOdVC1P1L5z5azs0XjMsb&index=2"
      ]
    },
    {
      "cell_type": "code",
      "metadata": {
        "id": "4ML3fkISdCaZ"
      },
      "source": [
        "import os\n",
        "os.environ ['TF_CPP_MIN_LOG_LEVEL']= '2'"
      ],
      "execution_count": 2,
      "outputs": []
    },
    {
      "cell_type": "code",
      "metadata": {
        "id": "BKcAI8hU9-UI"
      },
      "source": [
        "import tensorflow as tf #fundamental building blocks of deep learing \n",
        "from tensorflow import keras\n",
        "from tensorflow.keras import layers\n",
        "from tensorflow.keras.datasets import mnist "
      ],
      "execution_count": 14,
      "outputs": []
    },
    {
      "cell_type": "code",
      "metadata": {
        "colab": {
          "base_uri": "https://localhost:8080/"
        },
        "id": "BOhI4XuLmKuQ",
        "outputId": "f862939c-3eb6-44ce-9246-b99aebe8b99f"
      },
      "source": [
        "#Loading the Data\n",
        "(x_train, y_train), (x_test, y_test)= mnist.load_data()\n",
        "print(x_train.shape)\n",
        "print(y_train.shape)\n",
        "x_train= x_train.reshape(-1, 28*28).astype('float32')/255.0\n",
        "x_test= x_test.reshape(-1, 28*28).astype('float32')/255.0\n",
        "print(x_train.shape)\n",
        "print(x_test.shape)"
      ],
      "execution_count": 18,
      "outputs": [
        {
          "output_type": "stream",
          "text": [
            "(60000, 28, 28)\n",
            "(60000,)\n",
            "(60000, 784)\n",
            "(10000, 784)\n"
          ],
          "name": "stdout"
        }
      ]
    },
    {
      "cell_type": "code",
      "metadata": {
        "colab": {
          "base_uri": "https://localhost:8080/"
        },
        "id": "vVqItaT5mKwu",
        "outputId": "3c28fc55-f950-4694-be8b-f2ed613ba07c"
      },
      "source": [
        "#Sequenstial API (Very convenient but not very flexible)\n",
        "#Limitation: 1 input is mapped to one output\n",
        "\n",
        "#Network Architecture\n",
        "model= keras.Sequential(\n",
        "    [ \n",
        "     keras.Input(shape= (28*28)),            #We are sending a list with this third bracket and the list is the layers\n",
        "     layers.Dense(512,activation='relu'),\n",
        "     layers.Dense(256, activation='relu'),\n",
        "     layers.Dense(10),  #This is our output layer we dont need an  activation function for the outpuit layer                           \n",
        "    ]\n",
        ")\n"
      ],
      "execution_count": 29,
      "outputs": [
        {
          "output_type": "stream",
          "text": [
            "WARNING:tensorflow:Please add `keras.layers.InputLayer` instead of `keras.Input` to Sequential model. `keras.Input` is intended to be used by Functional model.\n"
          ],
          "name": "stdout"
        }
      ]
    },
    {
      "cell_type": "code",
      "metadata": {
        "id": "_s-7qK6gzmDP"
      },
      "source": [
        "#Funtional API (A bit more felxible)\n",
        "#look into the you tube video for that but not that much necessary"
      ],
      "execution_count": null,
      "outputs": []
    },
    {
      "cell_type": "code",
      "metadata": {
        "colab": {
          "base_uri": "https://localhost:8080/"
        },
        "id": "BsyFTBCPynt0",
        "outputId": "84323d2a-de94-4ef1-f4be-0f0addc19f1a"
      },
      "source": [
        "print(model.summary())"
      ],
      "execution_count": 32,
      "outputs": [
        {
          "output_type": "stream",
          "text": [
            "Model: \"sequential_1\"\n",
            "_________________________________________________________________\n",
            "Layer (type)                 Output Shape              Param #   \n",
            "=================================================================\n",
            "dense_3 (Dense)              (None, 512)               401920    \n",
            "_________________________________________________________________\n",
            "dense_4 (Dense)              (None, 256)               131328    \n",
            "_________________________________________________________________\n",
            "dense_5 (Dense)              (None, 10)                2570      \n",
            "=================================================================\n",
            "Total params: 535,818\n",
            "Trainable params: 535,818\n",
            "Non-trainable params: 0\n",
            "_________________________________________________________________\n",
            "None\n"
          ],
          "name": "stdout"
        }
      ]
    },
    {
      "cell_type": "code",
      "metadata": {
        "colab": {
          "base_uri": "https://localhost:8080/"
        },
        "id": "yG_03oHEmKzJ",
        "outputId": "4b77056b-5875-4f74-de6f-19d3dd728195"
      },
      "source": [
        "#Network Confiuration\n",
        "model.compile(\n",
        "    loss= keras.losses.SparseCategoricalCrossentropy(from_logits= 'True'),\n",
        "    optimizer= keras.optimizers.Adam(lr=0.001),\n",
        "    metrics= ['accuracy'] #Running accuracy of the training model\n",
        ")"
      ],
      "execution_count": 30,
      "outputs": [
        {
          "output_type": "stream",
          "text": [
            "/usr/local/lib/python3.7/dist-packages/tensorflow/python/keras/optimizer_v2/optimizer_v2.py:375: UserWarning: The `lr` argument is deprecated, use `learning_rate` instead.\n",
            "  \"The `lr` argument is deprecated, use `learning_rate` instead.\")\n"
          ],
          "name": "stderr"
        }
      ]
    },
    {
      "cell_type": "code",
      "metadata": {
        "colab": {
          "base_uri": "https://localhost:8080/"
        },
        "id": "H6HT3xKfmK11",
        "outputId": "54017540-8f49-4297-b901-e288c795dabd"
      },
      "source": [
        "#Specify of concrete method for training the model\n",
        "model.fit(x_train, y_train, batch_size=32, epochs=5, verbose=2) #verbose=2 will print the results after every epoch"
      ],
      "execution_count": 25,
      "outputs": [
        {
          "output_type": "stream",
          "text": [
            "Epoch 1/5\n",
            "1875/1875 - 3s - loss: 0.1851 - accuracy: 0.9439\n",
            "Epoch 2/5\n",
            "1875/1875 - 2s - loss: 0.0807 - accuracy: 0.9747\n",
            "Epoch 3/5\n",
            "1875/1875 - 2s - loss: 0.0541 - accuracy: 0.9826\n",
            "Epoch 4/5\n",
            "1875/1875 - 2s - loss: 0.0405 - accuracy: 0.9868\n",
            "Epoch 5/5\n",
            "1875/1875 - 2s - loss: 0.0315 - accuracy: 0.9902\n"
          ],
          "name": "stdout"
        },
        {
          "output_type": "execute_result",
          "data": {
            "text/plain": [
              "<tensorflow.python.keras.callbacks.History at 0x7f08fb68fb90>"
            ]
          },
          "metadata": {
            "tags": []
          },
          "execution_count": 25
        }
      ]
    },
    {
      "cell_type": "code",
      "metadata": {
        "colab": {
          "base_uri": "https://localhost:8080/"
        },
        "id": "F-UDAPpGmK4l",
        "outputId": "f4e26558-ebfc-440b-c22c-3346fd96638e"
      },
      "source": [
        "model.evaluate(x_test,y_test,batch_size=32, verbose=2)"
      ],
      "execution_count": 26,
      "outputs": [
        {
          "output_type": "stream",
          "text": [
            "313/313 - 1s - loss: 0.0928 - accuracy: 0.9759\n"
          ],
          "name": "stdout"
        },
        {
          "output_type": "execute_result",
          "data": {
            "text/plain": [
              "[0.0928175300359726, 0.9758999943733215]"
            ]
          },
          "metadata": {
            "tags": []
          },
          "execution_count": 26
        }
      ]
    },
    {
      "cell_type": "code",
      "metadata": {
        "id": "ThcwK0XLmK7e"
      },
      "source": [
        ""
      ],
      "execution_count": null,
      "outputs": []
    },
    {
      "cell_type": "code",
      "metadata": {
        "id": "t4eWjwmxmK-m"
      },
      "source": [
        ""
      ],
      "execution_count": null,
      "outputs": []
    }
  ]
}