{
  "nbformat": 4,
  "nbformat_minor": 0,
  "metadata": {
    "colab": {
      "name": "TF_4: CNN with Sequential and Functional API.ipynb",
      "provenance": [],
      "collapsed_sections": [],
      "machine_shape": "hm",
      "authorship_tag": "ABX9TyOu2qm4rLiR4jQjo+wamDoY",
      "include_colab_link": true
    },
    "kernelspec": {
      "name": "python3",
      "display_name": "Python 3"
    },
    "language_info": {
      "name": "python"
    },
    "accelerator": "GPU"
  },
  "cells": [
    {
      "cell_type": "markdown",
      "metadata": {
        "id": "view-in-github",
        "colab_type": "text"
      },
      "source": [
        "<a href=\"https://colab.research.google.com/github/kamrulhuda/TensorflowTutorial/blob/main/TF_4_CNN_with_Sequential_and_Functional_API.ipynb\" target=\"_parent\"><img src=\"https://colab.research.google.com/assets/colab-badge.svg\" alt=\"Open In Colab\"/></a>"
      ]
    },
    {
      "cell_type": "markdown",
      "metadata": {
        "id": "p5fCuI5TdC9Y"
      },
      "source": [
        "https://www.youtube.com/watch?v=HPjBY1H-U4U&list=PLhhyoLH6IjfxVOdVC1P1L5z5azs0XjMsb&index=2"
      ]
    },
    {
      "cell_type": "code",
      "metadata": {
        "id": "4ML3fkISdCaZ"
      },
      "source": [
        "import os\n",
        "os.environ ['TF_CPP_MIN_LOG_LEVEL']= '2'"
      ],
      "execution_count": 2,
      "outputs": []
    },
    {
      "cell_type": "code",
      "metadata": {
        "id": "BKcAI8hU9-UI"
      },
      "source": [
        "import tensorflow as tf #fundamental building blocks of deep learing \n",
        "from tensorflow import keras\n",
        "from tensorflow.keras import layers\n",
        "from tensorflow.keras.datasets import cifar10"
      ],
      "execution_count": 36,
      "outputs": []
    },
    {
      "cell_type": "code",
      "metadata": {
        "colab": {
          "base_uri": "https://localhost:8080/"
        },
        "id": "BOhI4XuLmKuQ",
        "outputId": "974f42fe-146c-4597-905d-e1834bb61c45"
      },
      "source": [
        "#Loading the Data\n",
        "(x_train, y_train), (x_test, y_test)= cifar10.load_data()\n",
        "print(x_train.shape)\n",
        "print(y_train.shape)\n",
        "x_train= x_train.astype('float32')/255.0\n",
        "x_test= x_test.astype('float32')/255.0"
      ],
      "execution_count": 38,
      "outputs": [
        {
          "output_type": "stream",
          "text": [
            "(50000, 32, 32, 3)\n",
            "(50000, 1)\n"
          ],
          "name": "stdout"
        }
      ]
    },
    {
      "cell_type": "code",
      "metadata": {
        "colab": {
          "base_uri": "https://localhost:8080/"
        },
        "id": "vVqItaT5mKwu",
        "outputId": "c9f22529-ec6c-4a2d-c405-5e115cc15bc6"
      },
      "source": [
        "#Sequenstial API (Very convenient but not very flexible)\n",
        "#Limitation: 1 input is mapped to one output\n",
        "\n",
        "#Network Architecture\n",
        "model= keras.Sequential(\n",
        "    [ \n",
        "     keras.Input(shape= (32,32,3)),            #We are sending a list with this third bracket and the list is the layers\n",
        "     layers.Conv2D(32,3, padding= 'valid', activation='relu'),\n",
        "     layers.MaxPooling2D(pool_size=(2,2)),\n",
        "     layers.Conv2D(64,3, padding= 'valid', activation='relu'),\n",
        "     layers.MaxPooling2D(),\n",
        "     layers.Conv2D(128,3, padding= 'valid', activation='relu'),\n",
        "     layers.Flatten(),\n",
        "     layers.Dense(64, activation= 'relu'),\n",
        "     layers.Dense(10),  #This is our output layer we dont need an  activation function for the outpuit layer                           \n",
        "    ]\n",
        ")\n"
      ],
      "execution_count": 41,
      "outputs": [
        {
          "output_type": "stream",
          "text": [
            "WARNING:tensorflow:Please add `keras.layers.InputLayer` instead of `keras.Input` to Sequential model. `keras.Input` is intended to be used by Functional model.\n"
          ],
          "name": "stdout"
        }
      ]
    },
    {
      "cell_type": "code",
      "metadata": {
        "id": "_s-7qK6gzmDP"
      },
      "source": [
        "#Funtional API (A bit more felxible)\n",
        "#look into the you tube video for that but not that much necessary"
      ],
      "execution_count": null,
      "outputs": []
    },
    {
      "cell_type": "code",
      "metadata": {
        "colab": {
          "base_uri": "https://localhost:8080/"
        },
        "id": "BsyFTBCPynt0",
        "outputId": "fd29b946-7029-4adb-88de-c55385572e39"
      },
      "source": [
        "print(model.summary())"
      ],
      "execution_count": 42,
      "outputs": [
        {
          "output_type": "stream",
          "text": [
            "Model: \"sequential_3\"\n",
            "_________________________________________________________________\n",
            "Layer (type)                 Output Shape              Param #   \n",
            "=================================================================\n",
            "conv2d_1 (Conv2D)            (None, 30, 30, 32)        896       \n",
            "_________________________________________________________________\n",
            "max_pooling2d_1 (MaxPooling2 (None, 15, 15, 32)        0         \n",
            "_________________________________________________________________\n",
            "conv2d_2 (Conv2D)            (None, 13, 13, 64)        18496     \n",
            "_________________________________________________________________\n",
            "max_pooling2d_2 (MaxPooling2 (None, 6, 6, 64)          0         \n",
            "_________________________________________________________________\n",
            "conv2d_3 (Conv2D)            (None, 4, 4, 128)         73856     \n",
            "_________________________________________________________________\n",
            "flatten (Flatten)            (None, 2048)              0         \n",
            "_________________________________________________________________\n",
            "dense_7 (Dense)              (None, 64)                131136    \n",
            "_________________________________________________________________\n",
            "dense_8 (Dense)              (None, 10)                650       \n",
            "=================================================================\n",
            "Total params: 225,034\n",
            "Trainable params: 225,034\n",
            "Non-trainable params: 0\n",
            "_________________________________________________________________\n",
            "None\n"
          ],
          "name": "stdout"
        }
      ]
    },
    {
      "cell_type": "code",
      "metadata": {
        "colab": {
          "base_uri": "https://localhost:8080/"
        },
        "id": "yG_03oHEmKzJ",
        "outputId": "86279fbf-77cb-4533-de14-75e2dd964853"
      },
      "source": [
        "#Network Confiuration\n",
        "model.compile(\n",
        "    loss= keras.losses.SparseCategoricalCrossentropy(from_logits= 'True'),\n",
        "    optimizer= keras.optimizers.Adam(lr=3e-4),\n",
        "    metrics= ['accuracy'] #Running accuracy of the training model\n",
        ")"
      ],
      "execution_count": 43,
      "outputs": [
        {
          "output_type": "stream",
          "text": [
            "/usr/local/lib/python3.7/dist-packages/tensorflow/python/keras/optimizer_v2/optimizer_v2.py:375: UserWarning: The `lr` argument is deprecated, use `learning_rate` instead.\n",
            "  \"The `lr` argument is deprecated, use `learning_rate` instead.\")\n"
          ],
          "name": "stderr"
        }
      ]
    },
    {
      "cell_type": "code",
      "metadata": {
        "colab": {
          "base_uri": "https://localhost:8080/"
        },
        "id": "H6HT3xKfmK11",
        "outputId": "a937a3eb-e382-464a-9daf-552a83f5fe8b"
      },
      "source": [
        "#Specify of concrete method for training the model\n",
        "model.fit(x_train, y_train, batch_size=64, epochs=10, verbose=2) #verbose=2 will print the results after every epoch"
      ],
      "execution_count": 44,
      "outputs": [
        {
          "output_type": "stream",
          "text": [
            "Epoch 1/10\n",
            "782/782 - 17s - loss: 1.7051 - accuracy: 0.3778\n",
            "Epoch 2/10\n",
            "782/782 - 2s - loss: 1.3724 - accuracy: 0.5094\n",
            "Epoch 3/10\n",
            "782/782 - 2s - loss: 1.2451 - accuracy: 0.5600\n",
            "Epoch 4/10\n",
            "782/782 - 2s - loss: 1.1600 - accuracy: 0.5937\n",
            "Epoch 5/10\n",
            "782/782 - 2s - loss: 1.0851 - accuracy: 0.6194\n",
            "Epoch 6/10\n",
            "782/782 - 2s - loss: 1.0204 - accuracy: 0.6449\n",
            "Epoch 7/10\n",
            "782/782 - 2s - loss: 0.9640 - accuracy: 0.6644\n",
            "Epoch 8/10\n",
            "782/782 - 2s - loss: 0.9172 - accuracy: 0.6810\n",
            "Epoch 9/10\n",
            "782/782 - 2s - loss: 0.8755 - accuracy: 0.6979\n",
            "Epoch 10/10\n",
            "782/782 - 2s - loss: 0.8401 - accuracy: 0.7085\n"
          ],
          "name": "stdout"
        },
        {
          "output_type": "execute_result",
          "data": {
            "text/plain": [
              "<tensorflow.python.keras.callbacks.History at 0x7f08f8c67dd0>"
            ]
          },
          "metadata": {
            "tags": []
          },
          "execution_count": 44
        }
      ]
    },
    {
      "cell_type": "code",
      "metadata": {
        "colab": {
          "base_uri": "https://localhost:8080/"
        },
        "id": "F-UDAPpGmK4l",
        "outputId": "1edae3b3-76ed-4bba-8dd3-3a247e52ea1f"
      },
      "source": [
        "model.evaluate(x_test,y_test,batch_size=64, verbose=2)"
      ],
      "execution_count": 45,
      "outputs": [
        {
          "output_type": "stream",
          "text": [
            "157/157 - 0s - loss: 0.9134 - accuracy: 0.6818\n"
          ],
          "name": "stdout"
        },
        {
          "output_type": "execute_result",
          "data": {
            "text/plain": [
              "[0.9134108424186707, 0.6818000078201294]"
            ]
          },
          "metadata": {
            "tags": []
          },
          "execution_count": 45
        }
      ]
    },
    {
      "cell_type": "code",
      "metadata": {
        "id": "m4ZmB7LNAQKm"
      },
      "source": [
        ""
      ],
      "execution_count": null,
      "outputs": []
    },
    {
      "cell_type": "code",
      "metadata": {
        "id": "ThcwK0XLmK7e"
      },
      "source": [
        ""
      ],
      "execution_count": null,
      "outputs": []
    },
    {
      "cell_type": "code",
      "metadata": {
        "id": "t4eWjwmxmK-m"
      },
      "source": [
        "#Functional API\n",
        "#check u tube for that but not that much necessary"
      ],
      "execution_count": null,
      "outputs": []
    }
  ]
}