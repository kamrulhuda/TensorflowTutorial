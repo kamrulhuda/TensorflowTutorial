{
  "nbformat": 4,
  "nbformat_minor": 0,
  "metadata": {
    "colab": {
      "name": "TF_6: RNN GRU LSTM Bidirectionality.ipynb",
      "provenance": [],
      "collapsed_sections": [],
      "machine_shape": "hm",
      "authorship_tag": "ABX9TyOUfhMi+eLm3HNDBRLaAfLq",
      "include_colab_link": true
    },
    "kernelspec": {
      "name": "python3",
      "display_name": "Python 3"
    },
    "language_info": {
      "name": "python"
    },
    "accelerator": "GPU"
  },
  "cells": [
    {
      "cell_type": "markdown",
      "metadata": {
        "id": "view-in-github",
        "colab_type": "text"
      },
      "source": [
        "<a href=\"https://colab.research.google.com/github/kamrulhuda/TensorflowTutorial/blob/main/TF_6_RNN_GRU_LSTM_Bidirectionality.ipynb\" target=\"_parent\"><img src=\"https://colab.research.google.com/assets/colab-badge.svg\" alt=\"Open In Colab\"/></a>"
      ]
    },
    {
      "cell_type": "markdown",
      "metadata": {
        "id": "XDHwCjtwA-z2"
      },
      "source": [
        "**It will help to overcome the OVERFITTING issues**"
      ]
    },
    {
      "cell_type": "markdown",
      "metadata": {
        "id": "p5fCuI5TdC9Y"
      },
      "source": [
        "https://www.youtube.com/watch?v=HPjBY1H-U4U&list=PLhhyoLH6IjfxVOdVC1P1L5z5azs0XjMsb&index=2"
      ]
    },
    {
      "cell_type": "code",
      "metadata": {
        "id": "4ML3fkISdCaZ"
      },
      "source": [
        "import os\n",
        "os.environ ['TF_CPP_MIN_LOG_LEVEL']= '2'"
      ],
      "execution_count": 46,
      "outputs": []
    },
    {
      "cell_type": "code",
      "metadata": {
        "id": "BKcAI8hU9-UI"
      },
      "source": [
        "import tensorflow as tf #fundamental building blocks of deep learing \n",
        "from tensorflow import keras\n",
        "from tensorflow.keras import layers\n",
        "from tensorflow.keras.datasets import mnist"
      ],
      "execution_count": 48,
      "outputs": []
    },
    {
      "cell_type": "code",
      "metadata": {
        "colab": {
          "base_uri": "https://localhost:8080/"
        },
        "id": "BOhI4XuLmKuQ",
        "outputId": "5a7505cb-cb02-4d96-d58b-682dce7b27b4"
      },
      "source": [
        "#Loading the Data\n",
        "(x_train, y_train), (x_test, y_test)= mnist.load_data()\n",
        "print(x_train.shape)\n",
        "print(y_train.shape)\n",
        "x_train= x_train.astype('float32')/255.0\n",
        "x_test= x_test.astype('float32')/255.0"
      ],
      "execution_count": 49,
      "outputs": [
        {
          "output_type": "stream",
          "text": [
            "(60000, 28, 28)\n",
            "(60000,)\n"
          ],
          "name": "stdout"
        }
      ]
    },
    {
      "cell_type": "code",
      "metadata": {
        "colab": {
          "base_uri": "https://localhost:8080/"
        },
        "id": "vVqItaT5mKwu",
        "outputId": "5372491f-45cc-4193-8c0b-6d1dbbe39ed3"
      },
      "source": [
        "#Sequenstial API (Very convenient but not very flexible)\n",
        "#Limitation: 1 input is mapped to one output\n",
        "\n",
        "#Network Architecture for Simple RNN\n",
        "model= keras.Sequential()\n",
        "model.add(keras.Input(shape=(None,28)))\n",
        "model.add(\n",
        "    layers.SimpleRNN(512,return_sequences=True, activation='relu')\n",
        ")\n",
        "model.add(layers.SimpleRNN(512, activation= 'relu'))\n",
        "model.add(layers.Dense(10))\n",
        "\n",
        "print(model.summary())\n",
        "\n",
        "#Network Confiuration\n",
        "model.compile(\n",
        "    loss= keras.losses.SparseCategoricalCrossentropy(from_logits= 'True'),\n",
        "    optimizer= keras.optimizers.Adam(lr=0.001),\n",
        "    metrics= ['accuracy'] #Running accuracy of the training model\n",
        ")\n",
        "#Specify of concrete method for training the model\n",
        "model.fit(x_train, y_train, batch_size=64, epochs=10, verbose=2) #verbose=2 will print the results after every epoch\n",
        "#Evaluating on Test Set\n",
        "model.evaluate(x_test,y_test,batch_size=64, verbose=2)\n"
      ],
      "execution_count": 52,
      "outputs": [
        {
          "output_type": "stream",
          "text": [
            "WARNING:tensorflow:Please add `keras.layers.InputLayer` instead of `keras.Input` to Sequential model. `keras.Input` is intended to be used by Functional model.\n",
            "Model: \"sequential_6\"\n",
            "_________________________________________________________________\n",
            "Layer (type)                 Output Shape              Param #   \n",
            "=================================================================\n",
            "simple_rnn_2 (SimpleRNN)     (None, None, 512)         276992    \n",
            "_________________________________________________________________\n",
            "simple_rnn_3 (SimpleRNN)     (None, 512)               524800    \n",
            "_________________________________________________________________\n",
            "dense_10 (Dense)             (None, 10)                5130      \n",
            "=================================================================\n",
            "Total params: 806,922\n",
            "Trainable params: 806,922\n",
            "Non-trainable params: 0\n",
            "_________________________________________________________________\n",
            "None\n",
            "Epoch 1/10\n"
          ],
          "name": "stdout"
        },
        {
          "output_type": "stream",
          "text": [
            "/usr/local/lib/python3.7/dist-packages/tensorflow/python/keras/optimizer_v2/optimizer_v2.py:375: UserWarning: The `lr` argument is deprecated, use `learning_rate` instead.\n",
            "  \"The `lr` argument is deprecated, use `learning_rate` instead.\")\n"
          ],
          "name": "stderr"
        },
        {
          "output_type": "stream",
          "text": [
            "938/938 - 41s - loss: 0.3202 - accuracy: 0.9002\n",
            "Epoch 2/10\n",
            "938/938 - 40s - loss: 0.1454 - accuracy: 0.9607\n",
            "Epoch 3/10\n",
            "938/938 - 40s - loss: 0.1108 - accuracy: 0.9697\n",
            "Epoch 4/10\n",
            "938/938 - 40s - loss: 0.1128 - accuracy: 0.9693\n",
            "Epoch 5/10\n",
            "938/938 - 40s - loss: 0.0866 - accuracy: 0.9765\n",
            "Epoch 6/10\n",
            "938/938 - 39s - loss: 0.0925 - accuracy: 0.9747\n",
            "Epoch 7/10\n",
            "938/938 - 39s - loss: 0.0811 - accuracy: 0.9784\n",
            "Epoch 8/10\n",
            "938/938 - 39s - loss: 0.0719 - accuracy: 0.9802\n",
            "Epoch 9/10\n",
            "938/938 - 39s - loss: 0.0676 - accuracy: 0.9821\n",
            "Epoch 10/10\n",
            "938/938 - 39s - loss: 0.0654 - accuracy: 0.9822\n",
            "157/157 - 1s - loss: 0.0652 - accuracy: 0.9827\n"
          ],
          "name": "stdout"
        },
        {
          "output_type": "execute_result",
          "data": {
            "text/plain": [
              "[0.06520659476518631, 0.982699990272522]"
            ]
          },
          "metadata": {
            "tags": []
          },
          "execution_count": 52
        }
      ]
    },
    {
      "cell_type": "code",
      "metadata": {
        "colab": {
          "base_uri": "https://localhost:8080/"
        },
        "id": "wPb2jE2uJzIX",
        "outputId": "1e671621-7c89-4ea3-f503-c76bf17eae58"
      },
      "source": [
        "#Network Architecture for Simple GRU\n",
        "model= keras.Sequential()\n",
        "model.add(keras.Input(shape=(None,28)))\n",
        "model.add(\n",
        "    layers.GRU(512,return_sequences=True, activation='relu')\n",
        ")\n",
        "model.add(layers.GRU(512, activation= 'relu'))\n",
        "model.add(layers.Dense(10))\n",
        "\n",
        "print(model.summary())\n",
        "\n",
        "#Network Confiuration\n",
        "model.compile(\n",
        "    loss= keras.losses.SparseCategoricalCrossentropy(from_logits= 'True'),\n",
        "    optimizer= keras.optimizers.Adam(lr=0.001),\n",
        "    metrics= ['accuracy'] #Running accuracy of the training model\n",
        ")\n",
        "#Specify of concrete method for training the model\n",
        "model.fit(x_train, y_train, batch_size=64, epochs=10, verbose=2) #verbose=2 will print the results after every epoch\n",
        "#Evaluating on Test Set\n",
        "model.evaluate(x_test,y_test,batch_size=64, verbose=2)\n"
      ],
      "execution_count": 53,
      "outputs": [
        {
          "output_type": "stream",
          "text": [
            "WARNING:tensorflow:Please add `keras.layers.InputLayer` instead of `keras.Input` to Sequential model. `keras.Input` is intended to be used by Functional model.\n",
            "WARNING:tensorflow:Layer gru will not use cuDNN kernels since it doesn't meet the criteria. It will use a generic GPU kernel as fallback when running on GPU.\n",
            "WARNING:tensorflow:Layer gru_1 will not use cuDNN kernels since it doesn't meet the criteria. It will use a generic GPU kernel as fallback when running on GPU.\n",
            "Model: \"sequential_7\"\n",
            "_________________________________________________________________\n",
            "Layer (type)                 Output Shape              Param #   \n",
            "=================================================================\n",
            "gru (GRU)                    (None, None, 512)         832512    \n",
            "_________________________________________________________________\n",
            "gru_1 (GRU)                  (None, 512)               1575936   \n",
            "_________________________________________________________________\n",
            "dense_11 (Dense)             (None, 10)                5130      \n",
            "=================================================================\n",
            "Total params: 2,413,578\n",
            "Trainable params: 2,413,578\n",
            "Non-trainable params: 0\n",
            "_________________________________________________________________\n",
            "None\n",
            "Epoch 1/10\n"
          ],
          "name": "stdout"
        },
        {
          "output_type": "stream",
          "text": [
            "/usr/local/lib/python3.7/dist-packages/tensorflow/python/keras/optimizer_v2/optimizer_v2.py:375: UserWarning: The `lr` argument is deprecated, use `learning_rate` instead.\n",
            "  \"The `lr` argument is deprecated, use `learning_rate` instead.\")\n"
          ],
          "name": "stderr"
        },
        {
          "output_type": "stream",
          "text": [
            "938/938 - 96s - loss: 0.2988 - accuracy: 0.8999\n",
            "Epoch 2/10\n",
            "938/938 - 96s - loss: 0.0697 - accuracy: 0.9788\n",
            "Epoch 3/10\n",
            "938/938 - 95s - loss: 0.0498 - accuracy: 0.9852\n",
            "Epoch 4/10\n",
            "938/938 - 99s - loss: 0.0377 - accuracy: 0.9884\n",
            "Epoch 5/10\n",
            "938/938 - 97s - loss: 0.0335 - accuracy: 0.9894\n",
            "Epoch 6/10\n",
            "938/938 - 96s - loss: 0.0257 - accuracy: 0.9920\n",
            "Epoch 7/10\n",
            "938/938 - 94s - loss: 0.0238 - accuracy: 0.9925\n",
            "Epoch 8/10\n",
            "938/938 - 96s - loss: 0.0192 - accuracy: 0.9939\n",
            "Epoch 9/10\n",
            "938/938 - 99s - loss: 0.0166 - accuracy: 0.9944\n",
            "Epoch 10/10\n",
            "938/938 - 99s - loss: 0.0151 - accuracy: 0.9953\n",
            "157/157 - 2s - loss: 0.0320 - accuracy: 0.9910\n"
          ],
          "name": "stdout"
        },
        {
          "output_type": "execute_result",
          "data": {
            "text/plain": [
              "[0.03201679512858391, 0.9909999966621399]"
            ]
          },
          "metadata": {
            "tags": []
          },
          "execution_count": 53
        }
      ]
    },
    {
      "cell_type": "code",
      "metadata": {
        "colab": {
          "base_uri": "https://localhost:8080/"
        },
        "id": "2SurriFGJ8q4",
        "outputId": "56bf6848-9932-4f95-e7e4-440a1d5c0fd5"
      },
      "source": [
        "#Network Architecture for Simple LSTM\n",
        "model= keras.Sequential()\n",
        "model.add(keras.Input(shape=(None,28)))\n",
        "model.add(\n",
        "    layers.LSTM(512,return_sequences=True, activation='relu')\n",
        ")\n",
        "model.add(layers.LSTM(512, activation= 'relu'))\n",
        "model.add(layers.Dense(10))\n",
        "\n",
        "print(model.summary())\n",
        "\n",
        "#Network Confiuration\n",
        "model.compile(\n",
        "    loss= keras.losses.SparseCategoricalCrossentropy(from_logits= 'True'),\n",
        "    optimizer= keras.optimizers.Adam(lr=0.001),\n",
        "    metrics= ['accuracy'] #Running accuracy of the training model\n",
        ")\n",
        "#Specify of concrete method for training the model\n",
        "model.fit(x_train, y_train, batch_size=64, epochs=10, verbose=2) #verbose=2 will print the results after every epoch\n",
        "#Evaluating on Test Set\n",
        "model.evaluate(x_test,y_test,batch_size=64, verbose=2)"
      ],
      "execution_count": 54,
      "outputs": [
        {
          "output_type": "stream",
          "text": [
            "WARNING:tensorflow:Please add `keras.layers.InputLayer` instead of `keras.Input` to Sequential model. `keras.Input` is intended to be used by Functional model.\n",
            "WARNING:tensorflow:Layer lstm will not use cuDNN kernels since it doesn't meet the criteria. It will use a generic GPU kernel as fallback when running on GPU.\n",
            "WARNING:tensorflow:Layer lstm_1 will not use cuDNN kernels since it doesn't meet the criteria. It will use a generic GPU kernel as fallback when running on GPU.\n",
            "Model: \"sequential_8\"\n",
            "_________________________________________________________________\n",
            "Layer (type)                 Output Shape              Param #   \n",
            "=================================================================\n",
            "lstm (LSTM)                  (None, None, 512)         1107968   \n",
            "_________________________________________________________________\n",
            "lstm_1 (LSTM)                (None, 512)               2099200   \n",
            "_________________________________________________________________\n",
            "dense_12 (Dense)             (None, 10)                5130      \n",
            "=================================================================\n",
            "Total params: 3,212,298\n",
            "Trainable params: 3,212,298\n",
            "Non-trainable params: 0\n",
            "_________________________________________________________________\n",
            "None\n",
            "Epoch 1/10\n"
          ],
          "name": "stdout"
        },
        {
          "output_type": "stream",
          "text": [
            "/usr/local/lib/python3.7/dist-packages/tensorflow/python/keras/optimizer_v2/optimizer_v2.py:375: UserWarning: The `lr` argument is deprecated, use `learning_rate` instead.\n",
            "  \"The `lr` argument is deprecated, use `learning_rate` instead.\")\n"
          ],
          "name": "stderr"
        },
        {
          "output_type": "stream",
          "text": [
            "938/938 - 82s - loss: 0.4891 - accuracy: 0.8394\n",
            "Epoch 2/10\n",
            "938/938 - 80s - loss: 0.0956 - accuracy: 0.9711\n",
            "Epoch 3/10\n",
            "938/938 - 80s - loss: 0.0657 - accuracy: 0.9805\n",
            "Epoch 4/10\n",
            "938/938 - 78s - loss: 0.0528 - accuracy: 0.9848\n",
            "Epoch 5/10\n",
            "938/938 - 79s - loss: 0.0437 - accuracy: 0.9872\n",
            "Epoch 6/10\n",
            "938/938 - 79s - loss: 0.0604 - accuracy: 0.9841\n",
            "Epoch 7/10\n",
            "938/938 - 78s - loss: 0.0309 - accuracy: 0.9906\n",
            "Epoch 8/10\n",
            "938/938 - 78s - loss: 0.0257 - accuracy: 0.9919\n",
            "Epoch 9/10\n",
            "938/938 - 77s - loss: 0.0248 - accuracy: 0.9924\n",
            "Epoch 10/10\n",
            "938/938 - 76s - loss: 0.0214 - accuracy: 0.9932\n",
            "157/157 - 2s - loss: 0.0343 - accuracy: 0.9902\n"
          ],
          "name": "stdout"
        },
        {
          "output_type": "execute_result",
          "data": {
            "text/plain": [
              "[0.03432360291481018, 0.9901999831199646]"
            ]
          },
          "metadata": {
            "tags": []
          },
          "execution_count": 54
        }
      ]
    },
    {
      "cell_type": "code",
      "metadata": {
        "colab": {
          "base_uri": "https://localhost:8080/"
        },
        "id": "z1o00ij9KJx9",
        "outputId": "318fb688-3ec8-4ae9-9ea2-b335c44db8b0"
      },
      "source": [
        "#Network Architecture for Bidirectioal LSTM\n",
        "model= keras.Sequential()\n",
        "model.add(keras.Input(shape=(None,28)))\n",
        "model.add(\n",
        "    layers.Bidirectional(\n",
        "      layers.LSTM(512,return_sequences=True, activation='relu')   \n",
        "    )  \n",
        ")\n",
        "model.add(\n",
        "    layers.Bidirectional(\n",
        "      layers.LSTM(512, activation= 'relu')  \n",
        "    )\n",
        "  )\n",
        "model.add(layers.Dense(10))\n",
        "\n",
        "print(model.summary())\n",
        "\n",
        "#Network Confiuration\n",
        "model.compile(\n",
        "    loss= keras.losses.SparseCategoricalCrossentropy(from_logits= 'True'),\n",
        "    optimizer= keras.optimizers.Adam(lr=0.001),\n",
        "    metrics= ['accuracy'] #Running accuracy of the training model\n",
        ")\n",
        "#Specify of concrete method for training the model\n",
        "model.fit(x_train, y_train, batch_size=64, epochs=10, verbose=2) #verbose=2 will print the results after every epoch\n",
        "#Evaluating on Test Set\n",
        "model.evaluate(x_test,y_test,batch_size=64, verbose=2)"
      ],
      "execution_count": 55,
      "outputs": [
        {
          "output_type": "stream",
          "text": [
            "WARNING:tensorflow:Please add `keras.layers.InputLayer` instead of `keras.Input` to Sequential model. `keras.Input` is intended to be used by Functional model.\n",
            "WARNING:tensorflow:Layer lstm_2 will not use cuDNN kernels since it doesn't meet the criteria. It will use a generic GPU kernel as fallback when running on GPU.\n",
            "WARNING:tensorflow:Layer lstm_2 will not use cuDNN kernels since it doesn't meet the criteria. It will use a generic GPU kernel as fallback when running on GPU.\n",
            "WARNING:tensorflow:Layer lstm_2 will not use cuDNN kernels since it doesn't meet the criteria. It will use a generic GPU kernel as fallback when running on GPU.\n",
            "WARNING:tensorflow:Layer lstm_3 will not use cuDNN kernels since it doesn't meet the criteria. It will use a generic GPU kernel as fallback when running on GPU.\n",
            "WARNING:tensorflow:Layer lstm_3 will not use cuDNN kernels since it doesn't meet the criteria. It will use a generic GPU kernel as fallback when running on GPU.\n",
            "WARNING:tensorflow:Layer lstm_3 will not use cuDNN kernels since it doesn't meet the criteria. It will use a generic GPU kernel as fallback when running on GPU.\n",
            "Model: \"sequential_9\"\n",
            "_________________________________________________________________\n",
            "Layer (type)                 Output Shape              Param #   \n",
            "=================================================================\n",
            "bidirectional (Bidirectional (None, None, 1024)        2215936   \n",
            "_________________________________________________________________\n",
            "bidirectional_1 (Bidirection (None, 1024)              6295552   \n",
            "_________________________________________________________________\n",
            "dense_13 (Dense)             (None, 10)                10250     \n",
            "=================================================================\n",
            "Total params: 8,521,738\n",
            "Trainable params: 8,521,738\n",
            "Non-trainable params: 0\n",
            "_________________________________________________________________\n",
            "None\n",
            "Epoch 1/10\n"
          ],
          "name": "stdout"
        },
        {
          "output_type": "stream",
          "text": [
            "/usr/local/lib/python3.7/dist-packages/tensorflow/python/keras/optimizer_v2/optimizer_v2.py:375: UserWarning: The `lr` argument is deprecated, use `learning_rate` instead.\n",
            "  \"The `lr` argument is deprecated, use `learning_rate` instead.\")\n"
          ],
          "name": "stderr"
        },
        {
          "output_type": "stream",
          "text": [
            "938/938 - 145s - loss: 32.7336 - accuracy: 0.8245\n",
            "Epoch 2/10\n",
            "938/938 - 142s - loss: 0.1203 - accuracy: 0.9629\n",
            "Epoch 3/10\n",
            "938/938 - 143s - loss: 0.0748 - accuracy: 0.9775\n",
            "Epoch 4/10\n",
            "938/938 - 142s - loss: 0.0590 - accuracy: 0.9816\n",
            "Epoch 5/10\n",
            "938/938 - 138s - loss: 0.0539 - accuracy: 0.9844\n",
            "Epoch 6/10\n",
            "938/938 - 137s - loss: 0.0413 - accuracy: 0.9868\n",
            "Epoch 7/10\n",
            "938/938 - 143s - loss: 0.0374 - accuracy: 0.9881\n",
            "Epoch 8/10\n",
            "938/938 - 149s - loss: 0.0330 - accuracy: 0.9894\n",
            "Epoch 9/10\n",
            "938/938 - 148s - loss: 0.0302 - accuracy: 0.9902\n",
            "Epoch 10/10\n",
            "938/938 - 148s - loss: 0.0461 - accuracy: 0.9895\n",
            "157/157 - 3s - loss: 0.0818 - accuracy: 0.9767\n"
          ],
          "name": "stdout"
        },
        {
          "output_type": "execute_result",
          "data": {
            "text/plain": [
              "[0.08178748935461044, 0.9767000079154968]"
            ]
          },
          "metadata": {
            "tags": []
          },
          "execution_count": 55
        }
      ]
    }
  ]
}